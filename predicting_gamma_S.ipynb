{
 "cells": [
  {
   "cell_type": "code",
   "execution_count": 1,
   "metadata": {},
   "outputs": [],
   "source": [
    "import numpy as np\n",
    "\n",
    "# import qutip as qt\n",
    "import torch\n",
    "from torch.utils.data import Dataset, DataLoader\n",
    "import joblib\n",
    "\n",
    "import torch.nn as nn\n",
    "import matplotlib.pyplot as plt\n",
    "\n",
    "from torch import tensor\n",
    "\n",
    "from qbism import sic_povm"
   ]
  },
  {
   "cell_type": "code",
   "execution_count": 8,
   "metadata": {},
   "outputs": [
    {
     "name": "stdout",
     "output_type": "stream",
     "text": [
      "tensor([[0.8953+2.0181j, 0.5864+0.5808j],\n",
      "        [1.0162-0.2163j, 0.8216+0.5308j]])\n"
     ]
    },
    {
     "data": {
      "text/plain": [
       "tensor([0.8953+2.0181j, 0.5864+0.5808j, 1.0162-0.2163j, 0.8216+0.5308j])"
      ]
     },
     "execution_count": 8,
     "metadata": {},
     "output_type": "execute_result"
    }
   ],
   "source": [
    "a = torch.randn(2, 2) + 1j * torch.randn(2, 2)\n",
    "print(a)\n",
    "\n",
    "a.flatten()"
   ]
  },
  {
   "cell_type": "code",
   "execution_count": 86,
   "metadata": {},
   "outputs": [],
   "source": [
    "def dag(A):\n",
    "    return torch.conj(A.T)\n",
    "\n",
    "\n",
    "def sprepost(A, B):\n",
    "    Bt = B.T.contiguous()\n",
    "    return torch.kron(A.contiguous(), Bt)\n",
    "\n",
    "\n",
    "def spre(A):\n",
    "    return sprepost(A, torch.eye(A.shape[0]))\n",
    "\n",
    "\n",
    "def spost(A):\n",
    "    return sprepost(torch.eye(A.shape[0]), A)\n",
    "\n",
    "\n",
    "# def vec(A):\n",
    "#     return A.flatten()\n",
    "def vec(A):\n",
    "    return A.flatten()"
   ]
  },
  {
   "cell_type": "code",
   "execution_count": 46,
   "metadata": {},
   "outputs": [],
   "source": [
    "d = 2\n",
    "\n",
    "povm_arr = tensor(np.array(sic_povm(d)) * d)"
   ]
  },
  {
   "cell_type": "code",
   "execution_count": 62,
   "metadata": {},
   "outputs": [
    {
     "data": {
      "text/plain": [
       "tensor([[ 0.7887+0.0000j,  0.7887+0.0000j,  0.2113+0.0000j,  0.2113+0.0000j],\n",
       "        [ 0.2887+0.2887j, -0.2887-0.2887j,  0.2887-0.2887j, -0.2887+0.2887j],\n",
       "        [ 0.2887-0.2887j, -0.2887+0.2887j,  0.2887+0.2887j, -0.2887-0.2887j],\n",
       "        [ 0.2113+0.0000j,  0.2113+0.0000j,  0.7887+0.0000j,  0.7887+0.0000j]],\n",
       "       dtype=torch.complex128)"
      ]
     },
     "execution_count": 62,
     "metadata": {},
     "output_type": "execute_result"
    }
   ],
   "source": [
    "torch.vmap(vec)(povm_arr).T"
   ]
  },
  {
   "cell_type": "code",
   "execution_count": null,
   "metadata": {},
   "outputs": [],
   "source": []
  },
  {
   "cell_type": "code",
   "execution_count": 65,
   "metadata": {},
   "outputs": [
    {
     "data": {
      "text/plain": [
       "tensor([[1., 0.],\n",
       "        [0., 1.]])"
      ]
     },
     "execution_count": 65,
     "metadata": {},
     "output_type": "execute_result"
    }
   ],
   "source": [
    "torch.eye(2)"
   ]
  },
  {
   "cell_type": "code",
   "execution_count": 66,
   "metadata": {},
   "outputs": [
    {
     "data": {
      "text/plain": [
       "tensor([[1., 0., 0., 1.],\n",
       "        [1., 0., 0., 1.],\n",
       "        [1., 0., 0., 1.],\n",
       "        [1., 0., 0., 1.]])"
      ]
     },
     "execution_count": 66,
     "metadata": {},
     "output_type": "execute_result"
    }
   ],
   "source": [
    "torch.stack([vec(torch.eye(2))] * d**2)"
   ]
  },
  {
   "cell_type": "code",
   "execution_count": 67,
   "metadata": {},
   "outputs": [],
   "source": [
    "K = (d + 1) * torch.vmap(vec)(povm_arr).T - torch.stack(\n",
    "    [vec(torch.eye(2))] * d**2\n",
    ").T"
   ]
  },
  {
   "cell_type": "code",
   "execution_count": 69,
   "metadata": {},
   "outputs": [],
   "source": [
    "K_inv = (torch.stack([dag(vec(pi)) for pi in list(povm_arr)])) / d"
   ]
  },
  {
   "cell_type": "code",
   "execution_count": 70,
   "metadata": {},
   "outputs": [
    {
     "data": {
      "text/plain": [
       "tensor([[ 1.3660+0.0000j,  1.3660+0.0000j, -0.3660+0.0000j, -0.3660+0.0000j],\n",
       "        [ 0.8660+0.8660j, -0.8660-0.8660j,  0.8660-0.8660j, -0.8660+0.8660j],\n",
       "        [ 0.8660-0.8660j, -0.8660+0.8660j,  0.8660+0.8660j, -0.8660-0.8660j],\n",
       "        [-0.3660+0.0000j, -0.3660+0.0000j,  1.3660+0.0000j,  1.3660+0.0000j]],\n",
       "       dtype=torch.complex128)"
      ]
     },
     "execution_count": 70,
     "metadata": {},
     "output_type": "execute_result"
    }
   ],
   "source": [
    "K"
   ]
  },
  {
   "cell_type": "code",
   "execution_count": 71,
   "metadata": {},
   "outputs": [
    {
     "data": {
      "text/plain": [
       "tensor([[ 0.3943-0.0000j,  0.1443-0.1443j,  0.1443+0.1443j,  0.1057-0.0000j],\n",
       "        [ 0.3943-0.0000j, -0.1443+0.1443j, -0.1443-0.1443j,  0.1057-0.0000j],\n",
       "        [ 0.1057-0.0000j,  0.1443+0.1443j,  0.1443-0.1443j,  0.3943-0.0000j],\n",
       "        [ 0.1057-0.0000j, -0.1443-0.1443j, -0.1443+0.1443j,  0.3943-0.0000j]],\n",
       "       dtype=torch.complex128)"
      ]
     },
     "execution_count": 71,
     "metadata": {},
     "output_type": "execute_result"
    }
   ],
   "source": [
    "K_inv"
   ]
  },
  {
   "cell_type": "code",
   "execution_count": 73,
   "metadata": {},
   "outputs": [],
   "source": [
    "def psic_to_rho(p_arr, povm_arr, d):\n",
    "    K = (d + 1) * povm_arr - torch.eye(d)\n",
    "    return torch.einsum(\"ijk,i\", K, p_arr)\n",
    "\n",
    "\n",
    "def rho_to_psic(rho, povm_arr, d):\n",
    "    return (\n",
    "        torch.einsum(\"ill\", torch.einsum(\"ijk, kl -> ijl\", povm_arr, rho)) / d\n",
    "    )"
   ]
  },
  {
   "cell_type": "code",
   "execution_count": 89,
   "metadata": {},
   "outputs": [],
   "source": [
    "# Lindbladian generator.\n",
    "\n",
    "# it accepts gamma, S\n",
    "\n",
    "ketbra11 = tensor([[1, 0], [0, 0]])\n",
    "\n",
    "s_plus = tensor([[0, 1], [0, 0]])\n",
    "\n",
    "s_minus = s_plus.T\n",
    "\n",
    "unitary_part = -1j / 2 * (spre(ketbra11) - spost(ketbra11))\n",
    "\n",
    "dissipator = sprepost(s_minus, dag(s_minus)) - 0.5 * (\n",
    "    spre(dag(s_minus) @ s_minus) + spost(dag(s_minus) @ s_minus)\n",
    ")\n",
    "\n",
    "\n",
    "def _make_L(S, gamma):\n",
    "    return S * unitary_part + gamma * dissipator"
   ]
  },
  {
   "cell_type": "code",
   "execution_count": 92,
   "metadata": {},
   "outputs": [
    {
     "data": {
      "text/plain": [
       "tensor([[-1.0000+0.j,  0.0000+0.j,  0.0000+0.j,  0.0000+0.j],\n",
       "        [ 0.0000+0.j, -0.5000+0.j,  0.0000+0.j,  0.0000+0.j],\n",
       "        [ 0.0000+0.j,  0.0000+0.j, -0.5000+0.j,  0.0000+0.j],\n",
       "        [ 1.0000+0.j,  0.0000+0.j,  0.0000+0.j,  0.0000+0.j]])"
      ]
     },
     "execution_count": 92,
     "metadata": {},
     "output_type": "execute_result"
    }
   ],
   "source": [
    "_make_L(0, 1)"
   ]
  },
  {
   "cell_type": "code",
   "execution_count": 82,
   "metadata": {},
   "outputs": [
    {
     "data": {
      "text/plain": [
       "tensor([[0, 1],\n",
       "        [0, 0]])"
      ]
     },
     "execution_count": 82,
     "metadata": {},
     "output_type": "execute_result"
    }
   ],
   "source": [
    "s_plus"
   ]
  },
  {
   "cell_type": "code",
   "execution_count": 93,
   "metadata": {},
   "outputs": [],
   "source": [
    "gamma_0 = 20\n",
    "lamda = 0.8"
   ]
  },
  {
   "cell_type": "code",
   "execution_count": 88,
   "metadata": {},
   "outputs": [
    {
     "data": {
      "text/plain": [
       "tensor([[-1.0000,  0.0000,  0.0000,  0.0000],\n",
       "        [ 0.0000, -0.5000,  0.0000,  0.0000],\n",
       "        [ 0.0000,  0.0000, -0.5000,  0.0000],\n",
       "        [ 1.0000,  0.0000,  0.0000,  0.0000]])"
      ]
     },
     "execution_count": 88,
     "metadata": {},
     "output_type": "execute_result"
    }
   ],
   "source": [
    "dissipator"
   ]
  },
  {
   "cell_type": "code",
   "execution_count": 103,
   "metadata": {},
   "outputs": [],
   "source": [
    "raw_data = tensor(\n",
    "    joblib.load(\"raw_data.job\").real.swapaxes(1, 2), dtype=torch.complex128\n",
    ")"
   ]
  },
  {
   "cell_type": "code",
   "execution_count": 104,
   "metadata": {},
   "outputs": [
    {
     "data": {
      "text/plain": [
       "torch.Size([4, 5000])"
      ]
     },
     "execution_count": 104,
     "metadata": {},
     "output_type": "execute_result"
    }
   ],
   "source": [
    "raw_data[25].shape"
   ]
  },
  {
   "cell_type": "code",
   "execution_count": 106,
   "metadata": {},
   "outputs": [
    {
     "data": {
      "text/plain": [
       "tensor([[0.4178+0.0000j, 0.4473-0.1528j],\n",
       "        [0.4473+0.1528j, 0.5822+0.0000j]], dtype=torch.complex128)"
      ]
     },
     "execution_count": 106,
     "metadata": {},
     "output_type": "execute_result"
    }
   ],
   "source": [
    "psic_to_rho(raw_data[25, :, 0], povm_arr, d=2)"
   ]
  },
  {
   "cell_type": "code",
   "execution_count": 127,
   "metadata": {},
   "outputs": [
    {
     "data": {
      "text/plain": [
       "7j"
      ]
     },
     "execution_count": 127,
     "metadata": {},
     "output_type": "execute_result"
    }
   ],
   "source": [
    "np.sqrt(1 - 2 * gamma_0 / lamda + 1j * 0)"
   ]
  },
  {
   "cell_type": "code",
   "execution_count": 129,
   "metadata": {},
   "outputs": [],
   "source": [
    "def gamma(t, gamma_0, lamda):\n",
    "    delta = np.sqrt(1 - 2 * gamma_0 / lamda + 1j * 0)\n",
    "    return (\n",
    "        2\n",
    "        * gamma_0\n",
    "        * (\n",
    "            (np.sinh(lamda * t * delta / 2))\n",
    "            / (\n",
    "                delta * np.cosh(lamda * t * delta / 2)\n",
    "                + np.sinh(delta * t * lamda / 2)\n",
    "            )\n",
    "        )\n",
    "    )"
   ]
  },
  {
   "cell_type": "code",
   "execution_count": 132,
   "metadata": {},
   "outputs": [
    {
     "name": "stderr",
     "output_type": "stream",
     "text": [
      "/home/antonio/miniconda3/envs/torch/lib/python3.12/site-packages/matplotlib/cbook.py:1699: ComplexWarning: Casting complex values to real discards the imaginary part\n",
      "  return math.isfinite(val)\n",
      "/home/antonio/miniconda3/envs/torch/lib/python3.12/site-packages/matplotlib/cbook.py:1345: ComplexWarning: Casting complex values to real discards the imaginary part\n",
      "  return np.asarray(x, float)\n"
     ]
    },
    {
     "data": {
      "text/plain": [
       "(10.0, -10.0)"
      ]
     },
     "execution_count": 132,
     "metadata": {},
     "output_type": "execute_result"
    },
    {
     "data": {
      "image/png": "[encoded data removed]",
      "text/plain": [
       "<Figure size 640x480 with 1 Axes>"
      ]
     },
     "metadata": {},
     "output_type": "display_data"
    }
   ],
   "source": [
    "times = np.linspace(0, 10, 5000)\n",
    "\n",
    "plt.plot(times, gamma(times, gamma_0, lamda))\n",
    "plt.ylim(10, -10)"
   ]
  },
  {
   "cell_type": "code",
   "execution_count": 115,
   "metadata": {},
   "outputs": [
    {
     "name": "stdout",
     "output_type": "stream",
     "text": [
      "torch.Size([5000, 2, 2])\n"
     ]
    }
   ],
   "source": [
    "evolved_rho = torch.vmap(\n",
    "    lambda povm_step: psic_to_rho(povm_step, povm_arr, d=2)\n",
    ")(raw_data[25].T)\n",
    "print(evolved_rho.shape)"
   ]
  },
  {
   "cell_type": "code",
   "execution_count": 124,
   "metadata": {},
   "outputs": [
    {
     "data": {
      "image/png": "[encoded data removed]",
      "text/plain": [
       "<Figure size 640x480 with 1 Axes>"
      ]
     },
     "metadata": {},
     "output_type": "display_data"
    }
   ],
   "source": [
    "plt.plot(evolved_rho[:, 0, 0].real, label=\"Exact solution\")\n",
    "plt.legend()\n",
    "plt.show()"
   ]
  },
  {
   "cell_type": "code",
   "execution_count": 2,
   "metadata": {},
   "outputs": [
    {
     "name": "stdout",
     "output_type": "stream",
     "text": [
      "Using cuda device\n"
     ]
    }
   ],
   "source": [
    "device = (\n",
    "    \"cuda\"\n",
    "    if torch.cuda.is_available()\n",
    "    else \"mps\" if torch.backends.mps.is_available() else \"cpu\"\n",
    ")\n",
    "print(f\"Using {device} device\")"
   ]
  },
  {
   "cell_type": "code",
   "execution_count": 3,
   "metadata": {},
   "outputs": [],
   "source": []
  },
  {
   "cell_type": "code",
   "execution_count": 4,
   "metadata": {},
   "outputs": [],
   "source": [
    "class CNNDensityMatrix(nn.Module):\n",
    "    def __init__(\n",
    "        self, no_channels, no_filters, kernel_window, timeseries_length\n",
    "    ):\n",
    "        super(CNNDensityMatrix, self).__init__()\n",
    "        self.conv1 = nn.Conv1d(\n",
    "            in_channels=no_channels,\n",
    "            out_channels=no_filters,\n",
    "            kernel_size=kernel_window,\n",
    "        )\n",
    "        # len_output_of_conv1d = timeseries_length - kernel_window + 1\n",
    "        # self.fc1 = nn.Linear(len_output_of_conv1d * no_filters, no_channels)\n",
    "        self.fc1 = nn.Linear(no_filters, no_channels)\n",
    "\n",
    "    def forward(self, x):\n",
    "        x = self.conv1(x)\n",
    "        x = torch.relu(x)\n",
    "        x = self.fc1(x.permute(0, 2, 1)).permute(0, 2, 1)\n",
    "        return x\n",
    "\n",
    "\n",
    "class DensityMatrixDataset(Dataset):\n",
    "    def __init__(self, X, y):\n",
    "        self.X = X\n",
    "        self.y = y\n",
    "\n",
    "    def __len__(self):\n",
    "        return len(self.X)\n",
    "\n",
    "    def __getitem__(self, idx):\n",
    "        sample = (self.X[idx], self.y[idx])\n",
    "        return sample"
   ]
  },
  {
   "cell_type": "code",
   "execution_count": 7,
   "metadata": {},
   "outputs": [
    {
     "name": "stdout",
     "output_type": "stream",
     "text": [
      "CNNDensityMatrix(\n",
      "  (conv1): Conv1d(4, 16, kernel_size=(4,), stride=(1,))\n",
      "  (fc1): Linear(in_features=16, out_features=4, bias=True)\n",
      ")\n"
     ]
    }
   ],
   "source": [
    "N = raw_data.shape[0]\n",
    "C = raw_data.shape[1]\n",
    "L = raw_data.shape[2]\n",
    "\n",
    "no_filters = 16\n",
    "\n",
    "kernel_window = 4\n",
    "\n",
    "\n",
    "model = CNNDensityMatrix(\n",
    "    no_channels=C,\n",
    "    no_filters=no_filters,\n",
    "    kernel_window=kernel_window,\n",
    "    timeseries_length=L,\n",
    ")\n",
    "\n",
    "# model = model.to(device)\n",
    "\n",
    "\n",
    "criterion = nn.MSELoss()\n",
    "optimizer = torch.optim.Adam(model.parameters(), lr=0.001)\n",
    "\n",
    "\n",
    "print(model)"
   ]
  },
  {
   "cell_type": "code",
   "execution_count": 6,
   "metadata": {},
   "outputs": [],
   "source": [
    "X_raw = raw_data\n",
    "y_raw = raw_data[:, :, kernel_window - 1 :]\n",
    "\n",
    "dataset = DensityMatrixDataset(X_raw, y_raw)\n",
    "dataloader = DataLoader(dataset, batch_size=64, shuffle=True)"
   ]
  },
  {
   "cell_type": "code",
   "execution_count": 10,
   "metadata": {},
   "outputs": [
    {
     "data": {
      "text/plain": [
       "torch.Size([1000, 4, 4997])"
      ]
     },
     "execution_count": 10,
     "metadata": {},
     "output_type": "execute_result"
    }
   ],
   "source": [
    "model(tensor(X_raw)).shape\n",
    "# We need to keep this structure in the end.\n",
    "# We are gonna make the output of the linear to be 1000, 2, 4997\n",
    "# Then, we take these two scalas, gamma and S, to evolve the last timestep"
   ]
  }
 ],
 "metadata": {
  "kernelspec": {
   "display_name": "torch",
   "language": "python",
   "name": "python3"
  },
  "language_info": {
   "codemirror_mode": {
    "name": "ipython",
    "version": 3
   },
   "file_extension": ".py",
   "mimetype": "text/x-python",
   "name": "python",
   "nbconvert_exporter": "python",
   "pygments_lexer": "ipython3",
   "version": "3.12.1"
  }
 },
 "nbformat": 4,
 "nbformat_minor": 2
}
