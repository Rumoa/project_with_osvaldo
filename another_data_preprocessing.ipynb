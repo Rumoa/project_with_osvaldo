{
 "cells": [
  {
   "cell_type": "code",
   "execution_count": 1,
   "metadata": {},
   "outputs": [
    {
     "name": "stdout",
     "output_type": "stream",
     "text": [
      "os              : Linux-6.6.10-76060610-generic-x86_64-with-glibc2.35\n",
      "python          : 3.12.1\n",
      "tsai            : 0.3.9\n",
      "fastai          : 2.7.14\n",
      "fastcore        : 1.5.29\n",
      "torch           : 2.2.0\n",
      "device          : 1 gpu (['NVIDIA GeForce GTX 1070 with Max-Q Design'])\n",
      "cpu cores       : 6\n",
      "threads per cpu : 2\n",
      "RAM             : 31.19 GB\n",
      "GPU memory      : [8.0] GB\n"
     ]
    }
   ],
   "source": [
    "from tsai.all import computer_setup\n",
    "\n",
    "computer_setup()"
   ]
  },
  {
   "cell_type": "code",
   "execution_count": 2,
   "metadata": {},
   "outputs": [],
   "source": [
    "import joblib\n",
    "import numpy as np\n",
    "import torch\n",
    "from torch import tensor"
   ]
  },
  {
   "cell_type": "code",
   "execution_count": 3,
   "metadata": {},
   "outputs": [
    {
     "name": "stdout",
     "output_type": "stream",
     "text": [
      "(1000, 5000, 4)\n"
     ]
    }
   ],
   "source": [
    "raw_data = (joblib.load(\"raw_data.job\")).real\n",
    "print(raw_data.shape)"
   ]
  },
  {
   "cell_type": "code",
   "execution_count": 4,
   "metadata": {},
   "outputs": [],
   "source": [
    "# N = raw_data.shape[0]\n",
    "# C = raw_data.shape[1]\n",
    "# L = raw_data.shape[2]\n",
    "# kernel_window = 4\n",
    "\n",
    "number_of_features = 4\n",
    "no_filters = 16\n",
    "\n",
    "\n",
    "lookback = 5"
   ]
  },
  {
   "cell_type": "code",
   "execution_count": 5,
   "metadata": {},
   "outputs": [],
   "source": [
    "def create_dataset(dataset, lookback):\n",
    "    \"\"\"Transform a time series into a prediction dataset\n",
    "\n",
    "    Args:\n",
    "        dataset: A numpy array of time series, first dimension is the time steps\n",
    "        lookback: Size of window for prediction\n",
    "    \"\"\"\n",
    "    X, y = [], []\n",
    "    for i in range(len(dataset) - lookback):\n",
    "        feature = dataset[i : i + lookback]\n",
    "        target = dataset[i + 1 : i + lookback + 1]\n",
    "        X.append(feature)\n",
    "        y.append(target)\n",
    "    return torch.stack(X), torch.stack(y)"
   ]
  },
  {
   "cell_type": "code",
   "execution_count": 6,
   "metadata": {},
   "outputs": [
    {
     "name": "stdout",
     "output_type": "stream",
     "text": [
      "torch.Size([1000, 4995, 5, 4])\n",
      "as we see, the first dimension corresponds to the different trajectories. Now we don't care about this anymore, we can merge them.\n",
      "torch.Size([4995000, 5, 4])\n",
      "Don't forget to swap 1 and 2 index for cnn network\n"
     ]
    }
   ],
   "source": [
    "X_complete_windowed_df, y_complete_windowed_df = torch.vmap(\n",
    "    lambda df: create_dataset(df, lookback=lookback)\n",
    ")(tensor(raw_data))\n",
    "\n",
    "print(X_complete_windowed_df.shape)\n",
    "\n",
    "print(\n",
    "    \"as we see, the first dimension corresponds to the different trajectories. Now we don't care about this anymore, we can merge them.\"\n",
    ")\n",
    "\n",
    "X_complete_windowed_df = X_complete_windowed_df.reshape(\n",
    "    -1, lookback, number_of_features\n",
    ")\n",
    "\n",
    "y_complete_windowed_df = y_complete_windowed_df.reshape(\n",
    "    -1, lookback, number_of_features\n",
    ")\n",
    "\n",
    "print(X_complete_windowed_df.shape)\n",
    "\n",
    "print(\"Don't forget to swap 1 and 2 index for cnn network\")"
   ]
  },
  {
   "cell_type": "code",
   "execution_count": null,
   "metadata": {},
   "outputs": [],
   "source": []
  }
 ],
 "metadata": {
  "kernelspec": {
   "display_name": "torch",
   "language": "python",
   "name": "python3"
  },
  "language_info": {
   "codemirror_mode": {
    "name": "ipython",
    "version": 3
   },
   "file_extension": ".py",
   "mimetype": "text/x-python",
   "name": "python",
   "nbconvert_exporter": "python",
   "pygments_lexer": "ipython3",
   "version": "3.12.1"
  }
 },
 "nbformat": 4,
 "nbformat_minor": 2
}
